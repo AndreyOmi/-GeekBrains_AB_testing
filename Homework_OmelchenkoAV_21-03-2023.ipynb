{
 "cells": [
  {
   "cell_type": "code",
   "execution_count": 49,
   "metadata": {},
   "outputs": [],
   "source": [
    "# импорт необходимых библиотек\n",
    "from statsmodels.stats.power import tt_ind_solve_power, zt_ind_solve_power\n",
    "from statsmodels.stats.proportion import proportion_effectsize\n",
    "from statsmodels.stats.meta_analysis import effectsize_smd\n",
    "from typing import Union\n",
    "from math import ceil"
   ]
  },
  {
   "cell_type": "markdown",
   "metadata": {},
   "source": [
    "## Задача №1:\n",
    "Продакт на главной mail.ru решил протестировать в рекомендательной ленте контента вместо карточек\n",
    "со статьями видеоплеер с короткими видео. \\\n",
    "Нынешний таймспент на юзера в день в среднем равен 25 минут, а стандартная ошибка (SD) равна 156. \\\n",
    "Мы предполагаем, что в новой версии таймспент на юзера в день изменится на 10%. \\\n",
    "Средний трафик 20000 человек в день. \\\n",
    "Посчитайте сколько дней необходимо держать эксперимент при alpha = 5% и beta = 20% ."
   ]
  },
  {
   "cell_type": "code",
   "execution_count": 50,
   "metadata": {},
   "outputs": [],
   "source": [
    "mean_control = 25\n",
    "mean_test = 25 * 1.1\n",
    "std_control, std_test = 156, 156 * 1.15 #### учитываем возможное увеличение SD \n",
    "n_control , n_test = 20_000, 20_000\n",
    "alpha = 0.05\n",
    "beta = 0.2\n"
   ]
  },
  {
   "cell_type": "code",
   "execution_count": 51,
   "metadata": {},
   "outputs": [
    {
     "data": {
      "text/plain": [
       "-0.01487114483081235"
      ]
     },
     "execution_count": 51,
     "metadata": {},
     "output_type": "execute_result"
    }
   ],
   "source": [
    "#Расчёт effect_size для непрерывных метрик встроенной функцией\n",
    "\n",
    "es_normalized = effectsize_smd(mean_control, std_control, n_control, mean_test, std_test, n_test)[0]\n",
    "es_normalized"
   ]
  },
  {
   "cell_type": "code",
   "execution_count": 52,
   "metadata": {},
   "outputs": [],
   "source": [
    "# Функция для расчёта минимально необходимой выборки * 2(для теста и контроля) для непрерывной метрики\n",
    "def calc_sample_size_continuous(effect_size: float,\n",
    "                                alpha: float = .05,\n",
    "                                beta: float = .2,\n",
    "                                ratio: Union[float, int] = 1):\n",
    "    \n",
    "    n = tt_ind_solve_power(effect_size=effect_size,\n",
    "                           alpha=alpha,\n",
    "                           power=(1 - beta),\n",
    "                           ratio=ratio,\n",
    "                  )\n",
    "    return int(n * 2)"
   ]
  },
  {
   "cell_type": "code",
   "execution_count": 53,
   "metadata": {},
   "outputs": [
    {
     "data": {
      "text/plain": [
       "141965"
      ]
     },
     "execution_count": 53,
     "metadata": {},
     "output_type": "execute_result"
    }
   ],
   "source": [
    "# Расчёт минимально необходимой выборки * 2(для теста и контроля) для непрерывной метрики\n",
    "\n",
    "sample_size = calc_sample_size_continuous(effect_size = es_normalized, alpha = alpha, beta = beta)\n",
    "sample_size"
   ]
  },
  {
   "cell_type": "code",
   "execution_count": 54,
   "metadata": {},
   "outputs": [
    {
     "data": {
      "text/plain": [
       "8"
      ]
     },
     "execution_count": 54,
     "metadata": {},
     "output_type": "execute_result"
    }
   ],
   "source": [
    "# Расчет количества дней эксперимента при среднем трафике 20000 человек в день\n",
    "\n",
    "n_days = ceil(sample_size / 20_000) ### количество дней округляем до целого в большую сторону, чтобы размеры выборок гарантированно дали желаемый результат\n",
    "n_days"
   ]
  },
  {
   "cell_type": "code",
   "execution_count": 55,
   "metadata": {},
   "outputs": [
    {
     "data": {
      "text/plain": [
       "'Ответ: для получения статистически значимого результата нужно проводить эксперимент в течение 8 дней.'"
      ]
     },
     "execution_count": 55,
     "metadata": {},
     "output_type": "execute_result"
    }
   ],
   "source": [
    "f'Ответ: для получения статистически значимого результата нужно проводить эксперимент в течение {n_days} дней.'  "
   ]
  },
  {
   "cell_type": "markdown",
   "metadata": {},
   "source": [
    "## Задача №2:\n",
    "Наша продуктовая команда в ecommerce магазине планирует запустить тест, направленный на ускорение загрузки сайта. \\\n",
    "Одна из основных метрик bounce rate в GA = 40%. \\\n",
    "Мы предполагаем, что при оптимизации сайта она изменится минимум на 20%. \\\n",
    "Средний трафик 4000 человек в день. \\\n",
    "Посчитайте сколько нам нужно дней держать эксперимент при alpha = 5% и beta = 20%.\n"
   ]
  },
  {
   "cell_type": "code",
   "execution_count": 56,
   "metadata": {},
   "outputs": [
    {
     "name": "stdout",
     "output_type": "stream",
     "text": [
      "0.4 0.6000000000000001\n",
      "0.0001 0.00015000000000000001\n"
     ]
    }
   ],
   "source": [
    "br_control, br_test = 0.4, 0.4+0.2 \n",
    "n_control, n_test = 4_000, 4_000\n",
    "alpha = 0.05\n",
    "beta = 0.2\n",
    "prob_control, prob_test = br_control / n_control, br_test / n_test\n",
    "print(br_control, br_test)\n",
    "print(prob_control, prob_test)"
   ]
  },
  {
   "cell_type": "code",
   "execution_count": 57,
   "metadata": {},
   "outputs": [
    {
     "data": {
      "text/plain": [
       "-0.0044951764932720795"
      ]
     },
     "execution_count": 57,
     "metadata": {},
     "output_type": "execute_result"
    }
   ],
   "source": [
    "# Расчёт effect_size для пропорций\n",
    "\n",
    "es_prop = proportion_effectsize(prob_control, prob_test)\n",
    "es_prop"
   ]
  },
  {
   "cell_type": "code",
   "execution_count": 58,
   "metadata": {},
   "outputs": [],
   "source": [
    "# Формула для расчёта минимально необходимой выборки * 2 (для теста и контроля) для пропорций\n",
    "def calc_sample_size_proportion(effect_size: float,\n",
    "                                alpha: float = .05,\n",
    "                                beta: float = .2,\n",
    "                                ratio: Union[float, int] = 1):\n",
    "    \n",
    "    n = zt_ind_solve_power(effect_size=effect_size,\n",
    "                           alpha=alpha,\n",
    "                           power=(1 - beta),\n",
    "                           ratio=ratio,\n",
    "                  )\n",
    "    return int(n * 2)"
   ]
  },
  {
   "cell_type": "code",
   "execution_count": 59,
   "metadata": {},
   "outputs": [
    {
     "data": {
      "text/plain": [
       "1553721"
      ]
     },
     "execution_count": 59,
     "metadata": {},
     "output_type": "execute_result"
    }
   ],
   "source": [
    "# Расчёт минимально необходимой выборки * 2 (для теста и контроля) для пропорций\n",
    "\n",
    "sample_size_prop = calc_sample_size_proportion(effect_size = es_prop, alpha = alpha, beta = beta)\n",
    "sample_size_prop"
   ]
  },
  {
   "cell_type": "code",
   "execution_count": 60,
   "metadata": {},
   "outputs": [
    {
     "data": {
      "text/plain": [
       "389"
      ]
     },
     "execution_count": 60,
     "metadata": {},
     "output_type": "execute_result"
    }
   ],
   "source": [
    "# Расчет количества дней эксперимента при среднем трафике 4000 человек в день\n",
    "\n",
    "n_days_prop = ceil(sample_size_prop / 4_000) ### количество дней округляем до целого в большую сторону, чтобы размеры выборок гарантированно дали желаемый результат\n",
    "n_days_prop"
   ]
  },
  {
   "cell_type": "code",
   "execution_count": 67,
   "metadata": {},
   "outputs": [
    {
     "name": "stdout",
     "output_type": "stream",
     "text": [
      "Ответ: для получения статистически значимого результата нужно проводить эксперимент в течение 389 дней. \n",
      " P.S. Срок больше года представляется очень большим. ))\n"
     ]
    }
   ],
   "source": [
    "print(f'Ответ: для получения статистически значимого результата нужно проводить эксперимент в течение {n_days_prop} дней. \\n P.S. Срок больше года представляется очень большим. ))')"
   ]
  }
 ],
 "metadata": {
  "kernelspec": {
   "display_name": "Python 3.10.5 64-bit",
   "language": "python",
   "name": "python3"
  },
  "language_info": {
   "codemirror_mode": {
    "name": "ipython",
    "version": 3
   },
   "file_extension": ".py",
   "mimetype": "text/x-python",
   "name": "python",
   "nbconvert_exporter": "python",
   "pygments_lexer": "ipython3",
   "version": "3.10.5"
  },
  "orig_nbformat": 4,
  "vscode": {
   "interpreter": {
    "hash": "607db476e417971f05b607c2dd14e77ee8262c2c4c20dea422522c60605a222a"
   }
  }
 },
 "nbformat": 4,
 "nbformat_minor": 2
}
