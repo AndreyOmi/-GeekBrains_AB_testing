{
 "cells": [
  {
   "cell_type": "code",
   "execution_count": 75,
   "metadata": {},
   "outputs": [],
   "source": [
    "# импорт необходимых библиотек\n",
    "import random\n",
    "import numpy as np\n",
    "import scipy.stats as st\n",
    "from statsmodels.stats.power import tt_ind_solve_power, zt_ind_solve_power\n",
    "from statsmodels.stats.proportion import proportion_effectsize\n",
    "from statsmodels.stats.meta_analysis import effectsize_smd\n",
    "from statsmodels.stats import proportion\n",
    "from typing import Union\n",
    "from math import ceil\n",
    "from tqdm import tqdm"
   ]
  },
  {
   "cell_type": "markdown",
   "metadata": {},
   "source": [
    "## Задача:\n",
    "На основе выбранных продуктов из первого вебинара, выберите 2 A/B-теста и составьте план эксперимента, чтобы избежать Peeking Problem \\\n",
    "Распишите, какие метрики и как вы будете анализировать"
   ]
  },
  {
   "cell_type": "markdown",
   "metadata": {},
   "source": [
    "## План эксперимента для первого А/Б-теста"
   ]
  },
  {
   "cell_type": "markdown",
   "metadata": {},
   "source": [
    "### Составление бэклога экспериментов и приоритизация осуществлялась на основании ICE методики. Первой на основании ICE score выбрана следующая гипотеза:"
   ]
  },
  {
   "cell_type": "markdown",
   "metadata": {},
   "source": [
    "### 1.\tГипотеза: \n",
    "Использование алгоритмов автоматического выбора аудитории, чтобы система на сайте показывала рекламу тем, кто с большей вероятностью совершит конверсию, для всех групп покупателей увеличит валовую выручку на 10%, потому что увеличится частота покупок."
   ]
  },
  {
   "cell_type": "markdown",
   "metadata": {},
   "source": [
    "### 2.\tЧто делаем: \n",
    "Разрабатываем две версии сайта. Первая (версия А - экспериментальная) - с алгоритмом создания профиля авторизированного покупателя и алгоритмом позиционирования рекламных объявлений в зависимости от количественных параметров этого профиля (прежде всего параметра – байесовской вероятности совершения покупки при условии просмотра рекламы). Вторая (версия Б - контрольная) – ныне существующая версия сайта без указанного алгоритма."
   ]
  },
  {
   "cell_type": "markdown",
   "metadata": {},
   "source": [
    "### 3.\tНа каких пользователях тестируем: \n",
    "Hа всех поло-возрастных группах пользователей. Для эксперимента выделяем на основе рандомизированного выбора 10% от аудитории сайта, разделяя эти 10% случайным образом на две равные выборки – в контрольную и экспериментальную группы."
   ]
  },
  {
   "cell_type": "markdown",
   "metadata": {},
   "source": [
    "### 4.\tКлючевые метрики для оценки эксперимента: \n",
    "Валовая выручка (основная метрика) и конверсия / коэффициент конверсии (дополнительная метрика) в контрольной и экспериментальной выборках."
   ]
  },
  {
   "cell_type": "markdown",
   "metadata": {},
   "source": [
    "### 5.\tОжидаемый эффект: \n",
    "Cтатистически значимое различие (p-value < 0,05, α = 0,95) в валовой выручке и конверсии, превосходящее 10% в экспериментальной группе относительно контрольной. "
   ]
  },
  {
   "cell_type": "code",
   "execution_count": 47,
   "metadata": {},
   "outputs": [],
   "source": [
    "### Расчет длительности эксперимента для метрики \"валовая выручка\" при заданных условиях:\n",
    "\n",
    "### Инициализация исходных параметров\n",
    "\n",
    "mean_control = 100_000 ### допустим, у нас в средней такая валовая выручка в контрольной группе\n",
    "mean_test = 100_000 * 1.1\n",
    "std_control, std_test = 90_000, 90_000 * 1.15 #### учитываем возможное увеличение SD \n",
    "n_control , n_test = 10_000, 10_000\n",
    "alpha = 0.05\n",
    "beta = 0.2"
   ]
  },
  {
   "cell_type": "code",
   "execution_count": 48,
   "metadata": {},
   "outputs": [
    {
     "data": {
      "text/plain": [
       "-0.10310467054893516"
      ]
     },
     "execution_count": 48,
     "metadata": {},
     "output_type": "execute_result"
    }
   ],
   "source": [
    "#Расчёт effect_size для непрерывных метрик встроенной функцией\n",
    "\n",
    "es_normalized = effectsize_smd(mean_control, std_control, n_control, mean_test, std_test, n_test)[0]\n",
    "es_normalized"
   ]
  },
  {
   "cell_type": "code",
   "execution_count": 49,
   "metadata": {},
   "outputs": [],
   "source": [
    "# Функция для расчёта минимально необходимой выборки * 2(для теста и контроля) для непрерывной метрики\n",
    "def calc_sample_size_continuous(effect_size: float,\n",
    "                                alpha: float = .05,\n",
    "                                beta: float = .2,\n",
    "                                ratio: Union[float, int] = 1):\n",
    "    \n",
    "    n = tt_ind_solve_power(effect_size=effect_size,\n",
    "                           alpha=alpha,\n",
    "                           power=(1 - beta),\n",
    "                           ratio=ratio,\n",
    "                  )\n",
    "    return int(n * 2)"
   ]
  },
  {
   "cell_type": "code",
   "execution_count": 50,
   "metadata": {},
   "outputs": [
    {
     "data": {
      "text/plain": [
       "2955"
      ]
     },
     "execution_count": 50,
     "metadata": {},
     "output_type": "execute_result"
    }
   ],
   "source": [
    "# Расчёт минимально необходимой выборки * 2(для теста и контроля) для непрерывной метрики\n",
    "\n",
    "sample_size = calc_sample_size_continuous(effect_size = es_normalized, alpha = alpha, beta = beta)\n",
    "sample_size"
   ]
  },
  {
   "cell_type": "code",
   "execution_count": 51,
   "metadata": {},
   "outputs": [
    {
     "data": {
      "text/plain": [
       "30"
      ]
     },
     "execution_count": 51,
     "metadata": {},
     "output_type": "execute_result"
    }
   ],
   "source": [
    "### Допустим наш магазин посещает 1000 человек в день, таким образом 10% от аудитории, \n",
    "### выделенных для эксперимента, потребует 100 человек в день\n",
    "\n",
    "n_days = ceil(sample_size / 100) ### количество дней округляем до целого в большую сторону, чтобы размеры выборок гарантированно дали желаемый результат\n",
    "n_days\n",
    "\n",
    "### Вывод: на проведение эксперимента нужно 30 дней."
   ]
  },
  {
   "cell_type": "code",
   "execution_count": 66,
   "metadata": {},
   "outputs": [],
   "source": [
    "# Проведем моделирование AB-теста\n",
    "alpha = .05\n",
    "sample_A_mean, sample_B_mean = 100_000, 100_000 * 1.1 \n",
    "sample_A_size, sample_B_size = 1500, 1500 ### предположим нам удалось получить точное разделение выборок на контрольную и тестовую\n",
    "sample_A_se, sample_B_se = std_control/(sample_A_size ** 0.5), std_test/(sample_B_size ** 0.5)\n",
    "\n",
    "# Генерируем нормальное распределение на основе введенных данных\n",
    "sample_A = st.norm(loc=sample_A_mean, scale=sample_A_se).rvs(size=sample_A_size, random_state=42)\n",
    "sample_B = st.norm(loc=sample_B_mean, scale=sample_B_se).rvs(size=sample_B_size, random_state=42)"
   ]
  },
  {
   "cell_type": "code",
   "execution_count": 67,
   "metadata": {},
   "outputs": [
    {
     "name": "stderr",
     "output_type": "stream",
     "text": [
      "100%|██████████| 10000/10000 [00:02<00:00, 3669.60it/s]\n"
     ]
    }
   ],
   "source": [
    "# Проведем АБ-тестирование с помощью бутсрапа\n",
    "booted_diff = []\n",
    "booted_pvalue = []\n",
    "size = max(sample_A.size, sample_B.size)\n",
    "for _ in tqdm(range(10_000)):\n",
    "    a_s = np.random.choice(sample_A, size=size, replace=True)\n",
    "    b_s = np.random.choice(sample_B, size=size, replace=True)\n",
    "    booted_diff.append(np.mean(a_s - b_s))\n",
    "    booted_pvalue.append(st.ttest_ind(a_s, b_s, equal_var=False, alternative='two-sided')[1])\n",
    "\n",
    "# Доверительный интервал разниц между группами\n",
    "md_ci, std_ci = np.mean(booted_diff), np.std(booted_diff, ddof=1)\n",
    "left_ci, right_ci = np.percentile(booted_diff, [2.5, 97.5])\n",
    "p_value_ci = 2 * (1 - st.norm.cdf(np.abs(md_ci / std_ci)))"
   ]
  },
  {
   "cell_type": "code",
   "execution_count": 68,
   "metadata": {},
   "outputs": [
    {
     "name": "stdout",
     "output_type": "stream",
     "text": [
      "Средняя разница: -10018.51978, p-value: 0.0 и доверительный интервал: [-10188.87561, -9842.00073]\n",
      "Группа # 2 имеет большее среднее\n"
     ]
    }
   ],
   "source": [
    "# Доверительный интервал разниц между группами: контрольная группа (A) будет под номером 1, а\n",
    "# экспериментальная группа (В) будет под номером 2\n",
    "print(f\"Средняя разница: {np.round(md_ci, 5)}, p-value: {p_value_ci} и доверительный интервал: [{np.round(left_ci, 5)}, {np.round(right_ci, 5)}]\")\n",
    "\n",
    "if p_value_ci < alpha and not min(left_ci, right_ci) < 0 < max(left_ci, right_ci):\n",
    "    print(f\"Группа # {1 if md_ci > 0 else 2} имеет большее среднее\")\n",
    "else:\n",
    "    print(\"Нет статистически значимой разницы\")"
   ]
  },
  {
   "cell_type": "markdown",
   "metadata": {},
   "source": [
    "### 6.\tПлан действий в зависимости от результатов эксперимента: \n",
    "Если статистически значимое различие метрик наблюдается, то масштабируем алгоритм на весь сайт для 100% пользователей. Если значимого различия не получено, то переходим к разработке дизайна эксперимента для следующей по величине ICE score гипотезы.\n",
    "#### Вывод: статистически значимое различие получено - алгоритм можно внедрять на сайт."
   ]
  },
  {
   "cell_type": "markdown",
   "metadata": {},
   "source": [
    "## План эксперимента для второго А/Б-теста"
   ]
  },
  {
   "cell_type": "markdown",
   "metadata": {},
   "source": [
    "### Составление бэклога экспериментов и приоритизация осуществлялась на основании ICE методики.  Вторым АБ-тестом является тест для проверки гипотезы, набравшей следующее по величине значение ICE score, а именно:"
   ]
  },
  {
   "cell_type": "markdown",
   "metadata": {},
   "source": [
    "### 1.\tГипотеза: \n",
    "Подсветка и приоритетный вывод на первую страницу (или в первый горизонтальный слайдер) товаров и акций, наиболее характерных для половозрастной группы пользователя (например: мобильную и компьютерную технику для молодых мужчин, галантерею и аксессуары для мобильных устройств для молодых женщин, книги и бытовую технику для женщин среднего возраста, товары для сада/огорода для пожилых покупателей), для всех групп пользователей позволит увеличить конверсию на 10% и средний чек на 20%, потому что увеличится предложение клиентам интересующих их товаров."
   ]
  },
  {
   "cell_type": "markdown",
   "metadata": {},
   "source": [
    "### 2.\tЧто делаем: \n",
    "Разрабатываем две версии сайта. Первая (версия А - экспериментальная) - с алгоритмом вывода целевых для авторизированного пользователя товаров и акций в зависимости от групповой принадлежности пользователя.  Вторая (версия Б - контрольная) – ныне существующая версия сайта без указанного алгоритма."
   ]
  },
  {
   "cell_type": "markdown",
   "metadata": {},
   "source": [
    "### 3.\tНа каких пользователях тестируем: \n",
    "Hа первом этапе можно выбрать в качетстве целевой группы молодых мужщин в возрасте от 25 до 35 лет. Для эксперимента выделяем на основе рандомизированного выбора 10% от аудитории сайта из целевой группы, разделяя эти 10% случайным образом на две равные выборки – в контрольную и экспериментальную группы."
   ]
  },
  {
   "cell_type": "markdown",
   "metadata": {},
   "source": [
    "### 4.\tКлючевые метрики для оценки эксперимента: \n",
    "Конверсия (основная метрика) и средний чек (дополнительная метрика)."
   ]
  },
  {
   "cell_type": "markdown",
   "metadata": {},
   "source": [
    "### 5.\tОжидаемый эффект: \n",
    "Cтатистически значимое различие (p-value < 0,05, α = 0,95) в конверсии, превосходящее или равное 10% в экспериментальной группе относительно контрольной. "
   ]
  },
  {
   "cell_type": "code",
   "execution_count": 69,
   "metadata": {},
   "outputs": [],
   "source": [
    "### Расчет длительности эксперимента для метрики \"конверсия\" при заданных условиях:\n",
    "\n",
    "### Инициализация исходных параметров - допустим исходная конверсия у нас 40%\n",
    "\n",
    "conv_sample_A, conv_sample_B = 0.4, 0.4*1.1  \n",
    "alpha = 0.05\n",
    "beta = 0.2"
   ]
  },
  {
   "cell_type": "code",
   "execution_count": 70,
   "metadata": {},
   "outputs": [
    {
     "data": {
      "text/plain": [
       "-0.08106803839554289"
      ]
     },
     "execution_count": 70,
     "metadata": {},
     "output_type": "execute_result"
    }
   ],
   "source": [
    "# Расчёт effect_size для пропорций\n",
    "\n",
    "es_prop = proportion_effectsize(conv_sample_A, conv_sample_B)\n",
    "es_prop"
   ]
  },
  {
   "cell_type": "code",
   "execution_count": 71,
   "metadata": {},
   "outputs": [],
   "source": [
    "# Формула для расчёта минимально необходимой выборки * 2 (для теста и контроля) для пропорций\n",
    "def calc_sample_size_proportion(effect_size: float,\n",
    "                                alpha: float = .05,\n",
    "                                beta: float = .2,\n",
    "                                ratio: Union[float, int] = 1):\n",
    "    \n",
    "    n = zt_ind_solve_power(effect_size=effect_size,\n",
    "                           alpha=alpha,\n",
    "                           power=(1 - beta),\n",
    "                           ratio=ratio,\n",
    "                  )\n",
    "    return int(n * 2)"
   ]
  },
  {
   "cell_type": "code",
   "execution_count": 72,
   "metadata": {},
   "outputs": [
    {
     "data": {
      "text/plain": [
       "4777"
      ]
     },
     "execution_count": 72,
     "metadata": {},
     "output_type": "execute_result"
    }
   ],
   "source": [
    "# Расчёт минимально необходимой выборки * 2 (для теста и контроля) для пропорций\n",
    "\n",
    "sample_size_prop = calc_sample_size_proportion(effect_size = es_prop, alpha = alpha, beta = beta)\n",
    "sample_size_prop"
   ]
  },
  {
   "cell_type": "code",
   "execution_count": 73,
   "metadata": {},
   "outputs": [
    {
     "data": {
      "text/plain": [
       "60"
      ]
     },
     "execution_count": 73,
     "metadata": {},
     "output_type": "execute_result"
    }
   ],
   "source": [
    "### Допустим наш магазин посещает 1000 человек в день, таким образом 10% от аудитории, \n",
    "### выделенных для эксперимента, потребует 100 человек в день (из них 50 человек будет из нашей \n",
    "### целевой аудитории).\n",
    "\n",
    "n_days_prop = ceil(sample_size / 50) ### количество дней округляем до целого в большую сторону, чтобы размеры выборок гарантированно дали желаемый результат\n",
    "n_days_prop\n",
    "\n",
    "### Вывод: на проведение эксперимента нужно 60 дней."
   ]
  },
  {
   "cell_type": "code",
   "execution_count": 74,
   "metadata": {},
   "outputs": [],
   "source": [
    "# Проведем моделирование AB-теста\n",
    "\n",
    "# Задаем начальные параметры\n",
    "alpha = .05\n",
    "sample_1_size, sample_2_size = 5000, 5000 ## допустим нам удалось собрать выборки нужного размера\n",
    "prob_1, prob_2 = 2000 / sample_1_size, 2200 / sample_2_size\n",
    "# Генерируем распределение\n",
    "a = st.bernoulli.rvs(p=prob_1, size=sample_1_size, random_state=12)\n",
    "b = st.bernoulli.rvs(p=prob_2, size=sample_2_size, random_state=25)"
   ]
  },
  {
   "cell_type": "code",
   "execution_count": 76,
   "metadata": {},
   "outputs": [
    {
     "name": "stdout",
     "output_type": "stream",
     "text": [
      "4.997862747090972e-07 4.997862747091e-07\n"
     ]
    }
   ],
   "source": [
    "# Сравнение хи2 и z\n",
    "chi_value, p_value_chi2, table = proportion.proportions_chisquare([a.sum(), b.sum()], [a.size, b.size])\n",
    "z_value, p_value_z = proportion.proportions_ztest([a.sum(), b.sum()], [a.size, b.size])\n",
    "print(p_value_chi2, p_value_z)\n",
    "\n",
    "#### Вывод: наблюдаются статистически значимые различия между контрольной и тестовой группами"
   ]
  },
  {
   "cell_type": "code",
   "execution_count": 81,
   "metadata": {},
   "outputs": [
    {
     "name": "stderr",
     "output_type": "stream",
     "text": [
      "100%|██████████| 10000/10000 [00:06<00:00, 1648.94it/s]\n"
     ]
    }
   ],
   "source": [
    "#### усиливаем расчеты бутстрепом\n",
    "\n",
    "booted_diff = []\n",
    "booted_pvalue = []\n",
    "size = max(a.size, b.size)\n",
    "for _ in tqdm(range(10_000)):\n",
    "    a_s = st.bernoulli.rvs(p=prob_1, size=size)\n",
    "    b_s = st.bernoulli.rvs(p=prob_2, size=size)\n",
    "    booted_diff.append(np.mean(a_s - b_s))\n",
    "    booted_pvalue.append(proportion.proportions_chisquare([a_s.sum(), b_s.sum()], [a_s.size, b_s.size])[1])\n",
    "\n",
    "md_ci, std_ci = np.mean(booted_diff), np.std(booted_diff, ddof=1)\n",
    "left_ci, right_ci = np.percentile(booted_diff, [2.5, 97.5])\n",
    "p_value_ci = 2 * (1 - st.norm.cdf(np.abs(md_ci / std_ci)))"
   ]
  },
  {
   "cell_type": "code",
   "execution_count": 83,
   "metadata": {},
   "outputs": [
    {
     "name": "stdout",
     "output_type": "stream",
     "text": [
      "Средняя разница: -0.04003, p-value: 4.6514995655222435e-05 и доверительный интервал: [-0.0596, -0.0206]\n",
      "Группа # 2 имеет большее среднее.\n"
     ]
    }
   ],
   "source": [
    "# Доверительный интервал разниц между группами\n",
    "\n",
    "print(f\"Средняя разница: {np.round(md_ci, 5)}, p-value: {p_value_ci} и доверительный интервал: [{np.round(left_ci, 5)}, {np.round(right_ci, 5)}]\")\n",
    "\n",
    "if p_value_ci < alpha and not min(left_ci, right_ci) < 0 < max(left_ci, right_ci):\n",
    "    print(f\"Группа # {1 if md_ci > 0 else 2} имеет большее среднее.\")\n",
    "else:\n",
    "    print(\"Нет статистически значимой разницы\")"
   ]
  },
  {
   "cell_type": "markdown",
   "metadata": {},
   "source": [
    "### 6.\tПлан действий в зависимости от результатов эксперимента: \n",
    "\n",
    "#### Вывод: статистически значимое увеличение конверсии получено, но среднее увеличение конверсии наблюдается в размере 4%, а не 10% (как планировалось изначально). Поэтому решение о внедрении предлагаемых изменений на сайт должно приниматься руководством исходя их этого результата."
   ]
  }
 ],
 "metadata": {
  "kernelspec": {
   "display_name": "Python 3.10.5 64-bit",
   "language": "python",
   "name": "python3"
  },
  "language_info": {
   "codemirror_mode": {
    "name": "ipython",
    "version": 3
   },
   "file_extension": ".py",
   "mimetype": "text/x-python",
   "name": "python",
   "nbconvert_exporter": "python",
   "pygments_lexer": "ipython3",
   "version": "3.10.5"
  },
  "orig_nbformat": 4,
  "vscode": {
   "interpreter": {
    "hash": "607db476e417971f05b607c2dd14e77ee8262c2c4c20dea422522c60605a222a"
   }
  }
 },
 "nbformat": 4,
 "nbformat_minor": 2
}
